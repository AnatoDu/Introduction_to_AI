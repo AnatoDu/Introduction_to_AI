{
 "cells": [
  {
   "cell_type": "markdown",
   "metadata": {},
   "source": [
    "# Предобработка данных"
   ]
  },
  {
   "cell_type": "markdown",
   "metadata": {},
   "source": [
    "Автор ноутбука - Дуркин Анатолий Альбертович\n",
    "\n",
    "Преподаватель кафедры прикладной математики и компьютерных наук СГУ им. Питирима Сорокина\n",
    "\n",
    "Замечания, предложения, идеи, вопросы, связь с автором:\n",
    "- anatoliy.durkin@mail.ru\n",
    "- Telegram - @AnatoDu\n",
    "\n",
    "Больше информации и материалов на канале автора: https://t.me/smth_on_it"
   ]
  },
  {
   "cell_type": "markdown",
   "metadata": {},
   "source": [
    "## Красота данных"
   ]
  },
  {
   "cell_type": "markdown",
   "metadata": {},
   "source": [
    "Данные редко бывают чистыми и красивыми, обычно в них присутствуют ошибки, пропуски и аномальные значения. И всё это необходимо обрабатывать до того, как приступить к анализу или построению моделей машинного обучения. Помните: мусор на входе - мусор на выходе. Если мы возьмём такие необработанные данные для анализа, наши выводы будут как минимум не совсем верны, а как макисмум - абсолютно противоположны реальности.\n",
    "\n",
    "Далее рассмотрим основные проблемы, которые могут встретиться в данных, а также методы обработки данных. Этот список (проблем и методов) совершенно не исчерпывающий, но дающий базовое понимание."
   ]
  },
  {
   "cell_type": "code",
   "execution_count": null,
   "metadata": {
    "executionInfo": {
     "elapsed": 232,
     "status": "ok",
     "timestamp": 1732340897714,
     "user": {
      "displayName": "Анатолий Дуркин",
      "userId": "18258769107134692572"
     },
     "user_tz": -180
    },
    "id": "7vWaDnS6YBBT"
   },
   "outputs": [],
   "source": [
    "import pandas as pd"
   ]
  },
  {
   "cell_type": "markdown",
   "metadata": {
    "id": "gAfswxVnc11B"
   },
   "source": [
    "## Наименования столбцов"
   ]
  },
  {
   "cell_type": "markdown",
   "metadata": {},
   "source": [
    "Посмотрим на следующие данные."
   ]
  },
  {
   "cell_type": "code",
   "execution_count": null,
   "metadata": {
    "executionInfo": {
     "elapsed": 8,
     "status": "ok",
     "timestamp": 1732340899922,
     "user": {
      "displayName": "Анатолий Дуркин",
      "userId": "18258769107134692572"
     },
     "user_tz": -180
    },
    "id": "m-Esgks2ZDXF"
   },
   "outputs": [],
   "source": [
    "df_cols = pd.read_csv('survey.csv')"
   ]
  },
  {
   "cell_type": "code",
   "execution_count": null,
   "metadata": {
    "executionInfo": {
     "elapsed": 8,
     "status": "ok",
     "timestamp": 1732340899922,
     "user": {
      "displayName": "Анатолий Дуркин",
      "userId": "18258769107134692572"
     },
     "user_tz": -180
    },
    "id": "OHXTVrl9ZDU-"
   },
   "outputs": [],
   "source": [
    "df_cols.info()"
   ]
  },
  {
   "cell_type": "code",
   "execution_count": null,
   "metadata": {
    "executionInfo": {
     "elapsed": 277,
     "status": "ok",
     "timestamp": 1732340900192,
     "user": {
      "displayName": "Анатолий Дуркин",
      "userId": "18258769107134692572"
     },
     "user_tz": -180
    },
    "id": "L66iWUhEZDSf"
   },
   "outputs": [],
   "source": [
    "df_cols.columns"
   ]
  },
  {
   "cell_type": "markdown",
   "metadata": {},
   "source": [
    "В чём проблема этих данных? Да, их может быть много, но сейчас мы обратим внимание на то, что первые столбцы написаны с большой буквы, а все остальные с маленькой. Разве это проблема?\n",
    "\n",
    "В процессе анализа, когда вы будете постоянно обращаться к тем или иным столбцам, очень легко забыть, какой из них пишется с большой буквы, а какой с маленькой, какой с нижним подчеркиванием, а какой с пробелом или дефисом, да и вообще какое странное название было у какого-нибудь столбца.\n",
    "\n",
    "Поэтому рекомендуется всегда приводить названия столбцов к единообразному виду и по возможности давать столбцам осмысленные названия. Удобно, когда они написаны маленькими буквами и с нижним подчеркиванием на месте пробелов. Конечно, их можно привести и к другому единообразию, всё зависит от ваших предпочтений и изначального вида заголовков. А возможно, что вам вообще не захочется этого делать - дело ваше, я не настаиваю. Главное не запутайтесь!\n",
    "\n",
    "Если же решите переименовать - есть два способа. Первый позволяет задать полностью список заголовков. Удобно, когда надо поменять все или почти все названия."
   ]
  },
  {
   "cell_type": "code",
   "execution_count": null,
   "metadata": {
    "executionInfo": {
     "elapsed": 16,
     "status": "ok",
     "timestamp": 1732340900192,
     "user": {
      "displayName": "Анатолий Дуркин",
      "userId": "18258769107134692572"
     },
     "user_tz": -180
    },
    "id": "GK-Y5zYzZDQO"
   },
   "outputs": [],
   "source": [
    "df_cols.columns = ['timestamp', 'age', 'gender', 'country', 'state', 'self_employed',\n",
    "       'family_history', 'treatment', 'work_interfere', 'no_employees',\n",
    "       'remote_work', 'tech_company', 'benefits', 'care_options',\n",
    "       'wellness_program', 'seek_help', 'anonymity', 'leave',\n",
    "       'mental_health_consequence', 'phys_health_consequence', 'coworkers',\n",
    "       'supervisor', 'mental_health_interview', 'phys_health_interview',\n",
    "       'mental_vs_physical', 'obs_consequence', 'comments']"
   ]
  },
  {
   "cell_type": "code",
   "execution_count": null,
   "metadata": {
    "executionInfo": {
     "elapsed": 16,
     "status": "ok",
     "timestamp": 1732340900192,
     "user": {
      "displayName": "Анатолий Дуркин",
      "userId": "18258769107134692572"
     },
     "user_tz": -180
    },
    "id": "xKK-ehfZZDKm"
   },
   "outputs": [],
   "source": [
    "df_cols.columns"
   ]
  },
  {
   "cell_type": "markdown",
   "metadata": {},
   "source": [
    "Действительно, теперь у нас новые заголовки.\n",
    "\n",
    "Но в данном случае проще было переименовать только первые столбцы. Посмотрим, как это происходит. Для этого заново загрузим данные и воспользуемся другим методом переименования."
   ]
  },
  {
   "cell_type": "code",
   "execution_count": null,
   "metadata": {},
   "outputs": [],
   "source": [
    "df_cols = pd.read_csv('survey.csv')"
   ]
  },
  {
   "cell_type": "code",
   "execution_count": null,
   "metadata": {},
   "outputs": [],
   "source": [
    "df_cols.columns"
   ]
  },
  {
   "cell_type": "code",
   "execution_count": null,
   "metadata": {
    "executionInfo": {
     "elapsed": 16,
     "status": "ok",
     "timestamp": 1732340900192,
     "user": {
      "displayName": "Анатолий Дуркин",
      "userId": "18258769107134692572"
     },
     "user_tz": -180
    },
    "id": "hC0KTEKCeIRi"
   },
   "outputs": [],
   "source": [
    "df_cols.rename({'Timestamp': 'datetime', 'Age': 'age', 'Gender': 'gender', 'Country': 'country'},\n",
    "           axis=1, inplace=True)"
   ]
  },
  {
   "cell_type": "code",
   "execution_count": null,
   "metadata": {},
   "outputs": [],
   "source": [
    "df_cols.columns"
   ]
  },
  {
   "cell_type": "markdown",
   "metadata": {},
   "source": [
    "И тут сработало! Это значительно удобнее, когда надо изменить буквально пару названий.\n",
    "\n",
    "А теперь перейдём к другим данным и другим проблемам в данных."
   ]
  },
  {
   "cell_type": "markdown",
   "metadata": {
    "id": "X_mM_JNlZEJG"
   },
   "source": [
    "## Знакомство с данными"
   ]
  },
  {
   "cell_type": "markdown",
   "metadata": {},
   "source": [
    "Данные можно загружать не только из файлов, лежащих где-то рядом с jupyter-ноутбуком, но даже из сети.\n",
    "\n",
    "Загрузим данные от Яндекс Практикума (не уверен в том, что их можно использовать, но уточню этот вопрос и заменю их на похожие, так что данные могут поменяться).\n",
    "\n",
    "Это информация для оценки надежности заёмщика. Получим данные и познакомимся с ними."
   ]
  },
  {
   "cell_type": "code",
   "execution_count": null,
   "metadata": {
    "executionInfo": {
     "elapsed": 1963,
     "status": "ok",
     "timestamp": 1732340899921,
     "user": {
      "displayName": "Анатолий Дуркин",
      "userId": "18258769107134692572"
     },
     "user_tz": -180
    },
    "id": "Bf50cOeMYXuD"
   },
   "outputs": [],
   "source": [
    "df = pd.read_csv('https://code.s3.yandex.net/datasets/data.csv')"
   ]
  },
  {
   "cell_type": "markdown",
   "metadata": {
    "id": "ZvbSNd5jZ1FB"
   },
   "source": [
    "В датасете присутствуют следующие столбцы:\n",
    "\n",
    "- children – количество детей в семье;\n",
    "- days_employed – общий трудовой стаж в днях;\n",
    "- dob_years – возраст клиента в годах;\n",
    "- education – уровень образования клиента;\n",
    "- education_id – идентификатор уровня образования;\n",
    "- family_status – семейное положение;\n",
    "- family_status_id – идентификатор семейного положения;\n",
    "- gender – пол клиента;\n",
    "- income_type – тип занятости;\n",
    "- debt – имел ли задолженность по возврату кредитов (1 – имел, 0 – не имел);\n",
    "- total_income – ежемесячный доход;\n",
    "- purpose – цель получения кредита."
   ]
  },
  {
   "cell_type": "markdown",
   "metadata": {},
   "source": [
    "Первичное знакомство с данными необходимо, чтобы посмотреть, как они устроены и, возможно, сразу определить некоторые проблемы."
   ]
  },
  {
   "cell_type": "code",
   "execution_count": null,
   "metadata": {
    "colab": {
     "base_uri": "https://localhost:8080/",
     "height": 634
    },
    "executionInfo": {
     "elapsed": 14,
     "status": "ok",
     "timestamp": 1732340899922,
     "user": {
      "displayName": "Анатолий Дуркин",
      "userId": "18258769107134692572"
     },
     "user_tz": -180
    },
    "id": "xP6vRIj7ZDdn",
    "outputId": "131b2984-0f37-441a-9098-55cfc569c6ba"
   },
   "outputs": [],
   "source": [
    "df"
   ]
  },
  {
   "cell_type": "markdown",
   "metadata": {},
   "source": [
    "Да, в этих данных уже можно заметить некоторые проблемы. В стаже почему-то записаны отрицательные значения, что явно противоречит логике, а также какие-то очень большие значения, вызывающие сомнения. Ещё можно заметить, что в столбце образования есть слова \"среднее\" и \"Среднее\". Для нас это, конечно, одно значения. но для компьютера это разные вещи. На это тоже стоит обратить внимание. Видите ли вы ещё какие-либо сомнительные вещи?\n",
    "\n",
    "Посмотрим на основную информацию."
   ]
  },
  {
   "cell_type": "code",
   "execution_count": null,
   "metadata": {
    "colab": {
     "base_uri": "https://localhost:8080/"
    },
    "executionInfo": {
     "elapsed": 11,
     "status": "ok",
     "timestamp": 1732340899922,
     "user": {
      "displayName": "Анатолий Дуркин",
      "userId": "18258769107134692572"
     },
     "user_tz": -180
    },
    "id": "Zgz8EKjEZDbe",
    "outputId": "78efdfde-0b99-402a-8fe2-a0681a642454"
   },
   "outputs": [],
   "source": [
    "df.info()"
   ]
  },
  {
   "cell_type": "markdown",
   "metadata": {},
   "source": [
    "Здесь мы можем видеть все столбцы нашего датасета, количество непустых значений в каждом и его тип. Напоминаю, что `object` - это строковый тип данных в pandas.\n",
    "\n",
    "Отсюда можно получить информацию, что в двух столбцах имеются пустые значения, их больше двух тысяч, и их одинаковое количество.\n",
    "\n",
    "Также посмотрим на основные статистические метрики численных данных."
   ]
  },
  {
   "cell_type": "code",
   "execution_count": null,
   "metadata": {
    "colab": {
     "base_uri": "https://localhost:8080/",
     "height": 300
    },
    "executionInfo": {
     "elapsed": 9,
     "status": "ok",
     "timestamp": 1732340899922,
     "user": {
      "displayName": "Анатолий Дуркин",
      "userId": "18258769107134692572"
     },
     "user_tz": -180
    },
    "id": "GFxu1HvMZDZN",
    "outputId": "90730492-341a-4a27-dd8d-50e3d9998290"
   },
   "outputs": [],
   "source": [
    "df.describe()"
   ]
  },
  {
   "cell_type": "markdown",
   "metadata": {},
   "source": [
    "В этой таблице можно увидеть несколько странностей. У кого-то есть -1 ребёнок, чего точно не может быть, а у кого-то их 20. Больше трёх четвертей всех данных по стажу отрицательны, а максимальное значение подозрительно большое. А в возрасте есть люди с нулевым возрастом, что тоже сомнительно, ведь это реестр заёмщиков банка. Со всеми этими проблемами предстоит разобраться.\n",
    "\n",
    "Давайте начнём. И начнём с самого \"проблемного\" столбца."
   ]
  },
  {
   "cell_type": "markdown",
   "metadata": {
    "id": "DztYS3d1enF2"
   },
   "source": [
    "## Аномалии"
   ]
  },
  {
   "cell_type": "markdown",
   "metadata": {},
   "source": [
    "Итак, в столбце со стажем мы видели и отрицательные значения, и подозрительно большие, и пропуски. Со всем стоит разобраться."
   ]
  },
  {
   "cell_type": "code",
   "execution_count": null,
   "metadata": {
    "colab": {
     "base_uri": "https://localhost:8080/",
     "height": 458
    },
    "executionInfo": {
     "elapsed": 15,
     "status": "ok",
     "timestamp": 1732340900192,
     "user": {
      "displayName": "Анатолий Дуркин",
      "userId": "18258769107134692572"
     },
     "user_tz": -180
    },
    "id": "LASoXSgnZDIW",
    "outputId": "598cbe63-b486-489a-c0e4-4000b4318ce0"
   },
   "outputs": [],
   "source": [
    "df['days_employed']"
   ]
  },
  {
   "cell_type": "markdown",
   "metadata": {},
   "source": [
    "Давайте посмотрим на положительные и отрицательные значения отдельно. Оценим основные метрики."
   ]
  },
  {
   "cell_type": "code",
   "execution_count": null,
   "metadata": {},
   "outputs": [],
   "source": [
    "df[df['days_employed']>0]['days_employed'].describe()"
   ]
  },
  {
   "cell_type": "code",
   "execution_count": null,
   "metadata": {
    "colab": {
     "base_uri": "https://localhost:8080/",
     "height": 335
    },
    "executionInfo": {
     "elapsed": 14,
     "status": "ok",
     "timestamp": 1732340900193,
     "user": {
      "displayName": "Анатолий Дуркин",
      "userId": "18258769107134692572"
     },
     "user_tz": -180
    },
    "id": "Ckphp37CZDGG",
    "outputId": "c4860735-d3ac-4037-de91-b31fd2578c8d"
   },
   "outputs": [],
   "source": [
    "df[df['days_employed']<0]['days_employed'].describe()"
   ]
  },
  {
   "cell_type": "markdown",
   "metadata": {},
   "source": [
    "Положительные значения очень большие.\n",
    "\n",
    "Отрицательных значений очень много, и диапазон их изменения достаточно большой. Посмотрим на него в годах, так для нас будет понятнее."
   ]
  },
  {
   "cell_type": "code",
   "execution_count": null,
   "metadata": {},
   "outputs": [],
   "source": [
    "df[df['days_employed']<0]['days_employed'].describe() / 365"
   ]
  },
  {
   "cell_type": "markdown",
   "metadata": {},
   "source": [
    "От -0.066 до -50 лет. Если бы эти значения были положительными, это очень даже похоже на реальный стаж.\n",
    "\n",
    "Следует оценить распределение данных, как они лежат на нашей числовой прямой. Для этого нарисуем гитограмму, воспользовавшись методом `hist`."
   ]
  },
  {
   "cell_type": "code",
   "execution_count": null,
   "metadata": {
    "colab": {
     "base_uri": "https://localhost:8080/",
     "height": 447
    },
    "executionInfo": {
     "elapsed": 246,
     "status": "ok",
     "timestamp": 1732340900426,
     "user": {
      "displayName": "Анатолий Дуркин",
      "userId": "18258769107134692572"
     },
     "user_tz": -180
    },
    "id": "idMBgvIAZDDu",
    "outputId": "e0970433-483d-415c-c926-175567461d78"
   },
   "outputs": [],
   "source": [
    "df[df['days_employed']<0]['days_employed'].hist()"
   ]
  },
  {
   "cell_type": "markdown",
   "metadata": {},
   "source": [
    "На гистограмме все наши данные раскладываются в \"корзины\". По умолчанию их десять. Весь диапазон делится на равные интервалы, а затем подсчитывается, сколько наблюдений попало в тот или иной интервал, что и отображается на оси y. То есть для наших данных от 0 до примерно -2000 больше восьми тысяч наблюдений, от -2000 до -3500 около четырёх тысяч и так далее.\n",
    "\n",
    "Что можно оценить по гитограмме? Тут мы видим, что количество наблюдений постепенно снижается по мере удаления от нуля. Такое распределение является распределением Пуассона. Вообще, очень хорошо, если мы видим, что данные соответствуют нормальному распределению - тогда открывается большой простор для применения различных статистических методов. Но и распределение Пуассона тоже хорошо, ведь это по сути обрезанное нормальное распределение. А для стажа распределение Пуассона является естественным, ведь в реальности действительно больше людей с маленьким стажем, а с увеличеснием стажа количество таких работников уменьшается.\n",
    "\n",
    "Вот только наше распределение отрицательно. А если мы его повернём относительно нуля, то всё будет прекрасно.\n",
    "\n",
    "Очень важно всегда пытаться понять, почему возникла та или иная ошибка. Из-за чего стаж мог стать отрицательным? Ваши версии?\n",
    "\n",
    "Моя версия состоит в том, что вычисления вёл компьютер и просто вычитал из начальной даты стажа текущую или финальную. И даже могу попытаться убедить вас в этом:"
   ]
  },
  {
   "cell_type": "code",
   "execution_count": null,
   "metadata": {
    "colab": {
     "base_uri": "https://localhost:8080/"
    },
    "executionInfo": {
     "elapsed": 12,
     "status": "ok",
     "timestamp": 1732340900426,
     "user": {
      "displayName": "Анатолий Дуркин",
      "userId": "18258769107134692572"
     },
     "user_tz": -180
    },
    "id": "hJE7W_nNgmi2",
    "outputId": "198c85cb-5fd3-4743-f1b4-752c57f8efd4"
   },
   "outputs": [],
   "source": [
    "pd.to_datetime('2024-01-13') - pd.to_datetime('2024-10-30')"
   ]
  },
  {
   "cell_type": "markdown",
   "metadata": {},
   "source": [
    "Видите, если я вычитаю из меньшей даты большую, то в результате получается отрицательное значение. Убедил? Надеюсь, что да. В таком случае все отрицательные значения стажа можно сделать положительными."
   ]
  },
  {
   "cell_type": "code",
   "execution_count": null,
   "metadata": {
    "executionInfo": {
     "elapsed": 8,
     "status": "ok",
     "timestamp": 1732340900426,
     "user": {
      "displayName": "Анатолий Дуркин",
      "userId": "18258769107134692572"
     },
     "user_tz": -180
    },
    "id": "wQD1WF1ag8p7"
   },
   "outputs": [],
   "source": [
    "df['days_employed'] = abs(df['days_employed'])"
   ]
  },
  {
   "cell_type": "code",
   "execution_count": null,
   "metadata": {
    "colab": {
     "base_uri": "https://localhost:8080/",
     "height": 73
    },
    "executionInfo": {
     "elapsed": 7,
     "status": "ok",
     "timestamp": 1732340900426,
     "user": {
      "displayName": "Анатолий Дуркин",
      "userId": "18258769107134692572"
     },
     "user_tz": -180
    },
    "id": "rs9BxAPghEK8",
    "outputId": "9f7555a1-90b8-4425-9442-355d9e8ad95e"
   },
   "outputs": [],
   "source": [
    "df[df['days_employed']<0]"
   ]
  },
  {
   "cell_type": "markdown",
   "metadata": {},
   "source": [
    "Убедились, что отрицательных не осталось.\n",
    "\n",
    "Давайте разбираться с положительными. Помним, что они все больше 300 тысяч. Посмотрим на них в годах для лучшего понимания."
   ]
  },
  {
   "cell_type": "code",
   "execution_count": null,
   "metadata": {
    "colab": {
     "base_uri": "https://localhost:8080/",
     "height": 335
    },
    "executionInfo": {
     "elapsed": 15,
     "status": "ok",
     "timestamp": 1732340900193,
     "user": {
      "displayName": "Анатолий Дуркин",
      "userId": "18258769107134692572"
     },
     "user_tz": -180
    },
    "id": "t9r6i9ljZDBe",
    "outputId": "8090ce30-17d2-469d-89c7-9428e2073daf"
   },
   "outputs": [],
   "source": [
    "df[df['days_employed']>0]['days_employed'].describe() / 365"
   ]
  },
  {
   "cell_type": "markdown",
   "metadata": {},
   "source": [
    "Да уж! Люди, которые работают от 900 до 1100 лет. Настоящие долгожители! С данными точно не всё в порядке. Оценим распределение."
   ]
  },
  {
   "cell_type": "code",
   "execution_count": null,
   "metadata": {
    "colab": {
     "base_uri": "https://localhost:8080/",
     "height": 447
    },
    "executionInfo": {
     "elapsed": 523,
     "status": "ok",
     "timestamp": 1732340900943,
     "user": {
      "displayName": "Анатолий Дуркин",
      "userId": "18258769107134692572"
     },
     "user_tz": -180
    },
    "id": "rO-Q99ndhODL",
    "outputId": "a28d143f-ee59-4f79-852a-3d6011e5b3df"
   },
   "outputs": [],
   "source": [
    "df[df['days_employed']>300000]['days_employed'].hist(bins=30)"
   ]
  },
  {
   "cell_type": "markdown",
   "metadata": {},
   "source": [
    "Ни нормального, ни Пуассона. Тут практически равномерное распределение, какая-то однородная группа. Очень странно. Посмотрим, сколько у нас таких данных."
   ]
  },
  {
   "cell_type": "code",
   "execution_count": null,
   "metadata": {
    "colab": {
     "base_uri": "https://localhost:8080/"
    },
    "executionInfo": {
     "elapsed": 19,
     "status": "ok",
     "timestamp": 1732340900943,
     "user": {
      "displayName": "Анатолий Дуркин",
      "userId": "18258769107134692572"
     },
     "user_tz": -180
    },
    "id": "DArzDkdrhsRg",
    "outputId": "4ff3ae5a-4a46-4f91-ce8d-9ec15be4599d"
   },
   "outputs": [],
   "source": [
    "df[df['days_employed']>300000].shape"
   ]
  },
  {
   "cell_type": "code",
   "execution_count": null,
   "metadata": {
    "colab": {
     "base_uri": "https://localhost:8080/",
     "height": 35
    },
    "executionInfo": {
     "elapsed": 18,
     "status": "ok",
     "timestamp": 1732340900943,
     "user": {
      "displayName": "Анатолий Дуркин",
      "userId": "18258769107134692572"
     },
     "user_tz": -180
    },
    "id": "S0in1H73hOA8",
    "outputId": "e6583fbc-1f30-478f-f377-8dbc2394ee53"
   },
   "outputs": [],
   "source": [
    "f\"Аномальных данных {df[df['days_employed']>300000].shape[0] / df.shape[0] * 100:.0f}%\""
   ]
  },
  {
   "cell_type": "markdown",
   "metadata": {},
   "source": [
    "Напоминаю, что метод `shape` возвращает кортеж из вдух значений - количество строк и количество столбцов датафрейма.\n",
    "\n",
    "А в f-строке мы считаем процент аномальных данных от объема всего датасета, применяя форматирование для красивого вывода.\n",
    "\n",
    "И что же мы видим? Таких данных у нас 16%. Это достаточно много. Что с ними делать? Удалить? Не советую. Лучше всего не удалять вообще данные, ведь всё это информация, которая может быть полезна при анализе или создании моделей. Конечно, бывают очень плохие данные и их приходится убрать. В таком случае старайтесь не удалять больше 5% данных суммарно. Конечно, когда данные совсем плохие, приходится удалять и больше, но старайтесь избегать этого. Лучше попытаться понять ошибку и как-то исправить её, чем терять большое количество полезных данных.\n",
    "\n",
    "В чём может быть проблема здесь? Как вы думаете?\n",
    "\n",
    "Предположу, что данные записаны не в днях, а почему-то в часах. Посмотрим, как эти данные тогда будут выглядеть в годах."
   ]
  },
  {
   "cell_type": "code",
   "execution_count": null,
   "metadata": {
    "colab": {
     "base_uri": "https://localhost:8080/",
     "height": 335
    },
    "executionInfo": {
     "elapsed": 17,
     "status": "ok",
     "timestamp": 1732340900943,
     "user": {
      "displayName": "Анатолий Дуркин",
      "userId": "18258769107134692572"
     },
     "user_tz": -180
    },
    "id": "FnEipoJ1hupf",
    "outputId": "b0b0843b-b9b9-457e-a856-ec0fdfef889a"
   },
   "outputs": [],
   "source": [
    "df[df['days_employed']>300000]['days_employed'].describe() / 365 / 24"
   ]
  },
  {
   "cell_type": "markdown",
   "metadata": {},
   "source": [
    "Стаж от 37 до 45 лет выглядит теперь очень реальным. Но почему только такой большой? Почему нет стажа меньше? Выглядит несколько подозрительно, следует разбираться дальше.\n",
    "\n",
    "Когда мы изучаем данные одного столбца, мы не должны забывать, что эти данные существуют в датасете, а не отдельно. Соответственно, они могут быть связаны с другими данными, и эта связь может помочь нам решить проблему или понять причину её возникновения.\n",
    "\n",
    "Какие столбцы из имеющихся в нашем датасете могут быть связаны со стажем? Да, можно найти несколько, если почти не все. Но давайте выберем что-нибудь наиболее близкое.\n",
    "\n",
    "Я бы взял тип занятости, так как оба этих параметра напрямую связанны именно с работой. Давайте с помощью метода `unique` посмотрим на уникальные значения этого столбца."
   ]
  },
  {
   "cell_type": "code",
   "execution_count": null,
   "metadata": {
    "colab": {
     "base_uri": "https://localhost:8080/"
    },
    "executionInfo": {
     "elapsed": 16,
     "status": "ok",
     "timestamp": 1732340900943,
     "user": {
      "displayName": "Анатолий Дуркин",
      "userId": "18258769107134692572"
     },
     "user_tz": -180
    },
    "id": "mUOXaI-vhN_B",
    "outputId": "d9d7abb4-8c43-4c4b-ca89-69b4162b0a0a"
   },
   "outputs": [],
   "source": [
    "df['income_type'].unique()"
   ]
  },
  {
   "cell_type": "markdown",
   "metadata": {},
   "source": [
    "У нас есть восемь разных типов занятости, давайте теперь посмотрим на стаж в разрезе этих типов. Это мы сделаем с помощью метода `groupby`."
   ]
  },
  {
   "cell_type": "code",
   "execution_count": null,
   "metadata": {},
   "outputs": [],
   "source": [
    "df.groupby('income_type')"
   ]
  },
  {
   "cell_type": "markdown",
   "metadata": {},
   "source": [
    "Сам по себе метод не выдаст вам готовый результат. Он лишь разберет ваш датасет на несколько датасетов по указанному признаку. А вот чтобы получить результат, требуется уже напрямую указать, что вы хотите увидеть. В нашем случае мы хотим посмотреть основные метрики для стажа."
   ]
  },
  {
   "cell_type": "code",
   "execution_count": null,
   "metadata": {
    "colab": {
     "base_uri": "https://localhost:8080/",
     "height": 351
    },
    "executionInfo": {
     "elapsed": 15,
     "status": "ok",
     "timestamp": 1732340900944,
     "user": {
      "displayName": "Анатолий Дуркин",
      "userId": "18258769107134692572"
     },
     "user_tz": -180
    },
    "id": "R7qDMqQLhN8h",
    "outputId": "87a2a3ac-7009-4328-9b46-1acb0218ff1c"
   },
   "outputs": [],
   "source": [
    "df.groupby('income_type')['days_employed'].describe()"
   ]
  },
  {
   "cell_type": "markdown",
   "metadata": {
    "id": "Ier1yMi1kwLm"
   },
   "source": [
    "Это уже интересно. Теперь мы видим, что большие значения стажа соответствуют только двум категориям. Это упрощает объяснение возникновения ошибки. Более того, это даже объясняет разброс аномального стажа в диапазоне 37-45 лет. пенсионерам такой стаж вполне соответствует.\n",
    "\n",
    "А вот безработных всего двое. А студентов, предпринимателей и в декрете вообще по одному. Такие данные при анализе могут сослужить плохую службу - они никак не отражают свою группу. Если среди десяти тысяч сотрудников мы понимаем, что сможем понять и разброс, и средние по всей категории, то среди одного человека это будет затруднительно. Но у нас есть и хорошая новость - у нас всего пять таких человек, очень мало по сравнению с размером всего датасета. Поэтому в данном случае мы можем легко их удалить, и наш анализ не пострадает.\n",
    "\n",
    "Итак, по данной таблице делаем два вывода:\n",
    "\n",
    "1. Аномальные данные только у безработных и пенсионеров.\n",
    "2. 4 из 8 категорий удаляем.\n",
    "\n",
    "Начнём обработку. Для начала отфильтруем по типу занятости. Далее мы используем метод `isin` для определения вхождения значения в данный список. И сразу убедимся, что типов останется четыре."
   ]
  },
  {
   "cell_type": "code",
   "execution_count": null,
   "metadata": {
    "executionInfo": {
     "elapsed": 14,
     "status": "ok",
     "timestamp": 1732340900944,
     "user": {
      "displayName": "Анатолий Дуркин",
      "userId": "18258769107134692572"
     },
     "user_tz": -180
    },
    "id": "q3BQTupthN6S"
   },
   "outputs": [],
   "source": [
    "df = df[df['income_type'].isin(['сотрудник', 'пенсионер', 'компаньон', 'госслужащий'])]"
   ]
  },
  {
   "cell_type": "code",
   "execution_count": null,
   "metadata": {
    "colab": {
     "base_uri": "https://localhost:8080/"
    },
    "executionInfo": {
     "elapsed": 13,
     "status": "ok",
     "timestamp": 1732340900944,
     "user": {
      "displayName": "Анатолий Дуркин",
      "userId": "18258769107134692572"
     },
     "user_tz": -180
    },
    "id": "KFk0NGM2ZC-e",
    "outputId": "1c043d86-8e90-41e9-f1e9-15d57852f3b4"
   },
   "outputs": [],
   "source": [
    "df['income_type'].unique()"
   ]
  },
  {
   "cell_type": "markdown",
   "metadata": {},
   "source": [
    "Прекрасно! Теперь у нас не будет лишних малочисленных категорий.\n",
    "\n",
    "Продолжим. Теперь нужно перевести стаж в часах в стаж в днях для пенсионеров. Для этого воспользуемся методом `apply`. Он обычно пробегает по столбцам, но мы сделаем так, чтобы он пробегал по строкам нашего датафрейма, для этого укажем смену оси `axis=1`.\n",
    "\n",
    "Метод `apply` выполняет ту функцию, которую вы укажете, передавая в неё каждую строку датафрейма. Но нам нужно лишь небольшое преобразование, поэтому мы используем lambda-функцию, чтобы не писать полноценную отдельную.\n",
    "\n",
    "А внутрь поместим тернарный оператор, который будет возвращать стаж, делённый на 24, если тип занятости - пенсионер, и стаж в исходном виде во всех остальных случаях."
   ]
  },
  {
   "cell_type": "code",
   "execution_count": null,
   "metadata": {
    "colab": {
     "base_uri": "https://localhost:8080/"
    },
    "executionInfo": {
     "elapsed": 236,
     "status": "ok",
     "timestamp": 1732340901169,
     "user": {
      "displayName": "Анатолий Дуркин",
      "userId": "18258769107134692572"
     },
     "user_tz": -180
    },
    "id": "OUm-INpamalM",
    "outputId": "8e4b664c-fd14-433c-c590-a5868a40ad13"
   },
   "outputs": [],
   "source": [
    "df['days_employed'] = df.apply(lambda row:\n",
    "                              row['days_employed'] / 24\n",
    "                              if row['income_type']=='пенсионер'\n",
    "                              else row['days_employed'], axis=1)"
   ]
  },
  {
   "cell_type": "markdown",
   "metadata": {},
   "source": [
    "Теперь можно посмотреть на распределение наших данных."
   ]
  },
  {
   "cell_type": "code",
   "execution_count": null,
   "metadata": {
    "colab": {
     "base_uri": "https://localhost:8080/",
     "height": 447
    },
    "executionInfo": {
     "elapsed": 361,
     "status": "ok",
     "timestamp": 1732340901525,
     "user": {
      "displayName": "Анатолий Дуркин",
      "userId": "18258769107134692572"
     },
     "user_tz": -180
    },
    "id": "opUN-gtZmajE",
    "outputId": "b0ad8643-1957-4c09-8fad-f9a0052d3161"
   },
   "outputs": [],
   "source": [
    "df['days_employed'].hist()"
   ]
  },
  {
   "cell_type": "markdown",
   "metadata": {},
   "source": [
    "Получилось распределение Пуассона со всплеском на пенсионерах. К тому же мы спасли очень много аномальных данных от возможного удаления. Но, в столбце ещё остались проблемы."
   ]
  },
  {
   "cell_type": "markdown",
   "metadata": {
    "id": "Wek1cBXkn6jP"
   },
   "source": [
    "## Пропуски"
   ]
  },
  {
   "cell_type": "markdown",
   "metadata": {},
   "source": [
    "Мы сразу обратили внимание, что в стаже есть непустые значения. Помните эту таблицу?"
   ]
  },
  {
   "cell_type": "code",
   "execution_count": null,
   "metadata": {
    "colab": {
     "base_uri": "https://localhost:8080/"
    },
    "executionInfo": {
     "elapsed": 6,
     "status": "ok",
     "timestamp": 1732340901526,
     "user": {
      "displayName": "Анатолий Дуркин",
      "userId": "18258769107134692572"
     },
     "user_tz": -180
    },
    "id": "L0Ddu3tnmagy",
    "outputId": "98ac8652-019d-4134-d9b3-f7ba9cdf7559"
   },
   "outputs": [],
   "source": [
    "df.info()"
   ]
  },
  {
   "cell_type": "markdown",
   "metadata": {},
   "source": [
    "Пропуски можно найти и другим способом, методом `isna`, он возвращает True для пустых значений и False в иных случаях."
   ]
  },
  {
   "cell_type": "code",
   "execution_count": null,
   "metadata": {},
   "outputs": [],
   "source": [
    "df.isna()"
   ]
  },
  {
   "cell_type": "markdown",
   "metadata": {},
   "source": [
    "Да уж, кажется, это не облегчило задачу, с тем же успехом можно искать и в самом датафрейме. Но это же теперь булево значение - правда принимается за единицу, ложь за ноль. Значит при суммировании мы как раз и получим количество пустых значений в датафрейме."
   ]
  },
  {
   "cell_type": "code",
   "execution_count": null,
   "metadata": {
    "colab": {
     "base_uri": "https://localhost:8080/",
     "height": 460
    },
    "executionInfo": {
     "elapsed": 371,
     "status": "ok",
     "timestamp": 1732340901893,
     "user": {
      "displayName": "Анатолий Дуркин",
      "userId": "18258769107134692572"
     },
     "user_tz": -180
    },
    "id": "uh9fd-CGmaes",
    "outputId": "e5e858c9-9d3e-4a57-e16c-8aba184d7dfa"
   },
   "outputs": [],
   "source": [
    "df.isna().sum()"
   ]
  },
  {
   "cell_type": "markdown",
   "metadata": {},
   "source": [
    "Отлично! У нас по 2173 пропуска в двух столбцах. Вызывает интерес одинаковое их количество. Давайте проверим, не в одних ли и тех же строках находятся эти пропуски."
   ]
  },
  {
   "cell_type": "code",
   "execution_count": null,
   "metadata": {
    "colab": {
     "base_uri": "https://localhost:8080/",
     "height": 460
    },
    "executionInfo": {
     "elapsed": 9,
     "status": "ok",
     "timestamp": 1732340901893,
     "user": {
      "displayName": "Анатолий Дуркин",
      "userId": "18258769107134692572"
     },
     "user_tz": -180
    },
    "id": "vuLvxlljmaZz",
    "outputId": "9cda94e8-d6a2-4661-a736-4c65218461a5"
   },
   "outputs": [],
   "source": [
    "df[df['days_employed'].isna()].isna().sum()"
   ]
  },
  {
   "cell_type": "markdown",
   "metadata": {},
   "source": [
    "Выше мы взяли ту часть датафрейма, где есть пропуски в стаже и посчитали пропуски уже в нём. И они все совпали! Значит, стаж и доход не указаны одновременно. Из-за чего это могло возникнуть, как думаете?\n",
    "\n",
    "Предположим, что эти люди оформляли в банке некие \"легкие\" продукты и от них не требовалась информация по стажу и зарплате. Имеет место быть.\n",
    "\n",
    "Можно взглянуть на таких людей."
   ]
  },
  {
   "cell_type": "code",
   "execution_count": null,
   "metadata": {
    "colab": {
     "base_uri": "https://localhost:8080/",
     "height": 669
    },
    "executionInfo": {
     "elapsed": 8,
     "status": "ok",
     "timestamp": 1732340901893,
     "user": {
      "displayName": "Анатолий Дуркин",
      "userId": "18258769107134692572"
     },
     "user_tz": -180
    },
    "id": "RRRRFAZoZC7G",
    "outputId": "ea61a852-98fe-4c35-c11c-b43e23381060"
   },
   "outputs": [],
   "source": [
    "df[df['days_employed'].isna()]"
   ]
  },
  {
   "cell_type": "markdown",
   "metadata": {},
   "source": [
    "Видно, что это люди разного возраста, с разным образованием и типом занятости, с разным семейным положением. Объединяющих факторов не видно.\n",
    "\n",
    "Пропусков таких более двух тысяч, около 10%. Опять же, удалять такое большое количество данных не хочется - потеряем много полезной информации, ведь остальные столбцы заполнены. Следовательно, необходимо придумать, как такие пропуски заполнить.\n",
    "\n",
    "Существуют разные способы - оставить как есть, заполнить каким-то константным значением или заглушкой или подойти более индивидуально. Рассмотреть по группам и категориям. Как поступим тут?\n",
    "\n",
    "Надеюсь вы пришли примерно к той же идее, что и я. А почему бы не заполнить это значениями, как у людей того же возраста и типа занятости? Ведь скорее всего стаж  и зарплаты таких людей примерно одинаковы. Ну по крайней мере какие-то средние значения точно подойдут. Отличная идея! Только предлагаю по возрасту взять небольшое окно, чтобы слегка расширить выборки."
   ]
  },
  {
   "cell_type": "code",
   "execution_count": null,
   "metadata": {
    "executionInfo": {
     "elapsed": 8238,
     "status": "ok",
     "timestamp": 1732340910124,
     "user": {
      "displayName": "Анатолий Дуркин",
      "userId": "18258769107134692572"
     },
     "user_tz": -180
    },
    "id": "2DUjZPvJquzS"
   },
   "outputs": [],
   "source": [
    "for i in df[df['days_employed'].isna()].index:\n",
    "    inc_type = df.loc[i, 'income_type']\n",
    "    age = df.loc[i, 'dob_years']\n",
    "    df_group = df[(df['income_type']==inc_type)&(df['dob_years']>=age-1)&(df['dob_years']<=age+1)]\n",
    "    df.loc[i, 'days_employed'] = df_group['days_employed'].median()\n",
    "    df.loc[i, 'total_income'] = df_group['total_income'].median()"
   ]
  },
  {
   "cell_type": "markdown",
   "metadata": {},
   "source": [
    "В данном случае мы воспользовались обычным циклом. Но пробегались по индексам только тех строк, где есть пропуски. Во второй и третьей строке мы записываем тип занятости и возраст того человека, чьи пропущенные данные хотим восстановить. Затем выделяем группу людей с тем же типом занятости и с возрастом, отличающемся максимум на единицу. И наконец на пустые места вставляем медианные значения тех же параметров нашей группы.\n",
    "\n",
    "Почему медианные? Да, для стажа можно взять и среднее значение, оно будет скорее всего примерно таким же. Но для зарплаты куда более предпочтительно использовать именно медиану, так как она не подвержена выбросам и лучше отражает такие данные. Конечно, если четверо зарабатывают по сто тысяч, а один - шестьсот, то в среднем у всех по двести, что явно не отражает реальность. А вот медиана в таком случае - сто тысяч, что явно реальнее.\n",
    "\n",
    "Итак, пропуск заполнили, убедимся, что их не осталось."
   ]
  },
  {
   "cell_type": "code",
   "execution_count": null,
   "metadata": {
    "colab": {
     "base_uri": "https://localhost:8080/",
     "height": 460
    },
    "executionInfo": {
     "elapsed": 25,
     "status": "ok",
     "timestamp": 1732340910125,
     "user": {
      "displayName": "Анатолий Дуркин",
      "userId": "18258769107134692572"
     },
     "user_tz": -180
    },
    "id": "op9bjHT0quwq",
    "outputId": "cdefa212-369a-46d1-d56f-29749519cc33"
   },
   "outputs": [],
   "source": [
    "df.isna().sum()"
   ]
  },
  {
   "cell_type": "markdown",
   "metadata": {},
   "source": [
    "Похоже, у нас был человек, которому по возрасту никто не подошёл. Но ведь он всего один, так что ничего страшного, если мы его удалим."
   ]
  },
  {
   "cell_type": "code",
   "execution_count": null,
   "metadata": {
    "executionInfo": {
     "elapsed": 24,
     "status": "ok",
     "timestamp": 1732340910125,
     "user": {
      "displayName": "Анатолий Дуркин",
      "userId": "18258769107134692572"
     },
     "user_tz": -180
    },
    "id": "lhtoOtjVquue"
   },
   "outputs": [],
   "source": [
    "df = df[~df['days_employed'].isna()]"
   ]
  },
  {
   "cell_type": "code",
   "execution_count": null,
   "metadata": {
    "colab": {
     "base_uri": "https://localhost:8080/",
     "height": 460
    },
    "executionInfo": {
     "elapsed": 23,
     "status": "ok",
     "timestamp": 1732340910125,
     "user": {
      "displayName": "Анатолий Дуркин",
      "userId": "18258769107134692572"
     },
     "user_tz": -180
    },
    "id": "VFM5a2FhqusJ",
    "outputId": "edbd47e7-711c-4f1e-fec4-5b7933555aa5"
   },
   "outputs": [],
   "source": [
    "df.isna().sum()"
   ]
  },
  {
   "cell_type": "markdown",
   "metadata": {},
   "source": [
    "Теперь у нас не осталось пропусков, здорово! Но хотелось бы обратить внимание на ещё одну особенность данных в этом столбце."
   ]
  },
  {
   "cell_type": "markdown",
   "metadata": {
    "id": "1I5L8g9Ssvxr"
   },
   "source": [
    "## Типы данных"
   ]
  },
  {
   "cell_type": "markdown",
   "metadata": {},
   "source": [
    "Стаж в днях в нашей таблице представлен числом с плавающей точкой. Почему это могло произойти?\n",
    "\n",
    "Осмелюсь выдвинуть версию, что компьютер мог считать стаж с точностью до часов, минут и секунд, которые и попали в дробную часть. Но я сомневаюсь, что всё, что после точки, будет иметь какое-то принципиально важное значение, стаж итак указан в днях - достаточно точно. Поэтому этот столбец можно представить целыми числами. И сделать это очень легко с помощью метода `astype`."
   ]
  },
  {
   "cell_type": "code",
   "execution_count": null,
   "metadata": {
    "colab": {
     "base_uri": "https://localhost:8080/"
    },
    "executionInfo": {
     "elapsed": 23,
     "status": "ok",
     "timestamp": 1732340910125,
     "user": {
      "displayName": "Анатолий Дуркин",
      "userId": "18258769107134692572"
     },
     "user_tz": -180
    },
    "id": "fl6ndk6kqup7",
    "outputId": "be75b8cc-14f6-42a2-e9f2-673804f49ed8"
   },
   "outputs": [],
   "source": [
    "df['days_employed'] = df['days_employed'].astype('int') # писать можно и int, и 'int', и 'int32' или 'int64', если необходимо"
   ]
  },
  {
   "cell_type": "code",
   "execution_count": null,
   "metadata": {
    "colab": {
     "base_uri": "https://localhost:8080/"
    },
    "executionInfo": {
     "elapsed": 18,
     "status": "ok",
     "timestamp": 1732340910125,
     "user": {
      "displayName": "Анатолий Дуркин",
      "userId": "18258769107134692572"
     },
     "user_tz": -180
    },
    "id": "arfi6zfKqunh",
    "outputId": "2ff3a630-cbfd-4aa9-919f-d95c8af323b3"
   },
   "outputs": [],
   "source": [
    "df.info()"
   ]
  },
  {
   "cell_type": "markdown",
   "metadata": {},
   "source": [
    "Теперь этот столбец представлен целыми числами. Великолепно!\n",
    "\n",
    "Обратимся к следующим проблемам."
   ]
  },
  {
   "cell_type": "markdown",
   "metadata": {
    "id": "sp3RXEt6tUVc"
   },
   "source": [
    "## Дубликаты"
   ]
  },
  {
   "cell_type": "markdown",
   "metadata": {},
   "source": [
    "### Явные дубликаты"
   ]
  },
  {
   "cell_type": "markdown",
   "metadata": {},
   "source": [
    "По тем или иным причинам иногда случается, что в датасете присутствуют абсолютно одинаковые строки. Такие дубликаты могут быть естественными и объяснимыми и совершенно не требующими исправления, но зачастую это всё же является ошибкой. Так, в данных банка не может быть двух одинаковых людей. И хотя в нашем датафрейме нет персональных данных или чего-то, что позволяет однозначно идентифицировать человека, мы предположим, что все люди должны быть разными и ни у кого полностью список всех параметров не совпадает.\n",
    "\n",
    "Значит нам нужно найти дубликаты, если они есть. Делается это методом `duplicated`, который возвращает True для всех строк, которые повторяют уже встречавшиеся раньше."
   ]
  },
  {
   "cell_type": "code",
   "execution_count": null,
   "metadata": {
    "colab": {
     "base_uri": "https://localhost:8080/"
    },
    "executionInfo": {
     "elapsed": 17,
     "status": "ok",
     "timestamp": 1732340910126,
     "user": {
      "displayName": "Анатолий Дуркин",
      "userId": "18258769107134692572"
     },
     "user_tz": -180
    },
    "id": "Jr5udssftaO2",
    "outputId": "589a15b3-0b7a-4778-b361-46ea93d10548"
   },
   "outputs": [],
   "source": [
    "df.duplicated().sum()"
   ]
  },
  {
   "cell_type": "markdown",
   "metadata": {},
   "source": [
    "В нашем наборе данных целых 39 дубликатов! Можно даже взглянуть на них. Ниже указан аргумент `keep=False`, он нужен, чтобы оставить в данных и оригинальную строку, и её дубликат."
   ]
  },
  {
   "cell_type": "code",
   "execution_count": null,
   "metadata": {
    "colab": {
     "base_uri": "https://localhost:8080/",
     "height": 652
    },
    "executionInfo": {
     "elapsed": 14,
     "status": "ok",
     "timestamp": 1732340910126,
     "user": {
      "displayName": "Анатолий Дуркин",
      "userId": "18258769107134692572"
     },
     "user_tz": -180
    },
    "id": "1BToNjO7taMc",
    "outputId": "ffc55e8b-a3f8-4333-fe69-002f478b6c74"
   },
   "outputs": [],
   "source": [
    "df[df.duplicated(keep=False)].sort_values('days_employed')"
   ]
  },
  {
   "cell_type": "markdown",
   "metadata": {},
   "source": [
    "Данные разнообразные, но дубликаты нам не нужны. Удалить их тоже очень и очень просто - метод `drop_duplicates`, также укажем `inplace=True`, чтобы выполнить действие \"на месте\" с автоматическим перезаписываением датафрейма."
   ]
  },
  {
   "cell_type": "code",
   "execution_count": null,
   "metadata": {
    "executionInfo": {
     "elapsed": 244,
     "status": "ok",
     "timestamp": 1732340910357,
     "user": {
      "displayName": "Анатолий Дуркин",
      "userId": "18258769107134692572"
     },
     "user_tz": -180
    },
    "id": "7swrXzmptaJz"
   },
   "outputs": [],
   "source": [
    "df.drop_duplicates(inplace=True)"
   ]
  },
  {
   "cell_type": "code",
   "execution_count": null,
   "metadata": {
    "colab": {
     "base_uri": "https://localhost:8080/"
    },
    "executionInfo": {
     "elapsed": 243,
     "status": "ok",
     "timestamp": 1732340910357,
     "user": {
      "displayName": "Анатолий Дуркин",
      "userId": "18258769107134692572"
     },
     "user_tz": -180
    },
    "id": "VoVdpz00pQPW",
    "outputId": "df54c305-fc48-454a-a155-bf198a77a33c"
   },
   "outputs": [],
   "source": [
    "df.duplicated().sum()"
   ]
  },
  {
   "cell_type": "markdown",
   "metadata": {},
   "source": [
    "От явных дубликатов избавились, идём дальше."
   ]
  },
  {
   "cell_type": "markdown",
   "metadata": {
    "id": "z2sus3L4okTc"
   },
   "source": [
    "### Неявные дубликаты"
   ]
  },
  {
   "cell_type": "markdown",
   "metadata": {},
   "source": [
    "Не всегда данные повторяются один в один. Иногда они значат одно и то же, но выглядят по разному. Посмотрим на данные, сможем ли увидеть такое?"
   ]
  },
  {
   "cell_type": "code",
   "execution_count": null,
   "metadata": {
    "colab": {
     "base_uri": "https://localhost:8080/",
     "height": 634
    },
    "executionInfo": {
     "elapsed": 622,
     "status": "ok",
     "timestamp": 1732342091466,
     "user": {
      "displayName": "Анатолий Дуркин",
      "userId": "18258769107134692572"
     },
     "user_tz": -180
    },
    "id": "vGenjVE7kLI2",
    "outputId": "812f1e36-61e0-4722-f2f1-70aea5140e49"
   },
   "outputs": [],
   "source": [
    "df"
   ]
  },
  {
   "cell_type": "markdown",
   "metadata": {},
   "source": [
    "Да, например в образовании у нас есть \"среднее\", а есть \"Среднее\". Смысл одинаковый, но для компьютера - разные вещи. Это нужно исправлять, но для начала познакомимся со всеми уникальными значениями в данном столбце."
   ]
  },
  {
   "cell_type": "code",
   "execution_count": null,
   "metadata": {
    "colab": {
     "base_uri": "https://localhost:8080/"
    },
    "executionInfo": {
     "elapsed": 235,
     "status": "ok",
     "timestamp": 1732342234037,
     "user": {
      "displayName": "Анатолий Дуркин",
      "userId": "18258769107134692572"
     },
     "user_tz": -180
    },
    "id": "ow0G6rQfublH",
    "outputId": "9ff063c8-a27e-4bda-f488-a99051ca8f5d"
   },
   "outputs": [],
   "source": [
    "df['education'].unique()"
   ]
  },
  {
   "cell_type": "markdown",
   "metadata": {},
   "source": [
    "Для каждого уровня образования у нас есть три различные записи. Многовато! Однако, здесь исправить это легко - можно привести всё к нижнему регистру!\n",
    "\n",
    "Чтобы сделать такое в pandas, необходимо дополнительно указать, что к столбцу мы будем применять строковый метод. Тогда он применится к каждому значению этого столбца. Вот так:"
   ]
  },
  {
   "cell_type": "code",
   "execution_count": null,
   "metadata": {
    "executionInfo": {
     "elapsed": 219,
     "status": "ok",
     "timestamp": 1732342586796,
     "user": {
      "displayName": "Анатолий Дуркин",
      "userId": "18258769107134692572"
     },
     "user_tz": -180
    },
    "id": "DF0hRfitpLlz"
   },
   "outputs": [],
   "source": [
    "df['education'] = df['education'].str.lower()"
   ]
  },
  {
   "cell_type": "code",
   "execution_count": null,
   "metadata": {
    "colab": {
     "base_uri": "https://localhost:8080/"
    },
    "executionInfo": {
     "elapsed": 246,
     "status": "ok",
     "timestamp": 1732342594681,
     "user": {
      "displayName": "Анатолий Дуркин",
      "userId": "18258769107134692572"
     },
     "user_tz": -180
    },
    "id": "JcM7h8JnqOor",
    "outputId": "5fc6dd32-c7f9-4298-8ce5-8b192e82d49c"
   },
   "outputs": [],
   "source": [
    "df['education'].unique()"
   ]
  },
  {
   "cell_type": "markdown",
   "metadata": {},
   "source": [
    "отлично, с образованием справились! Где ещё могут быть неявные дубликаты?\n",
    "\n",
    "На самом деле в любом текстовом столбце, поэтому посмотрим на все по очереди. Обратим внимание на семейное положение."
   ]
  },
  {
   "cell_type": "code",
   "execution_count": null,
   "metadata": {
    "colab": {
     "base_uri": "https://localhost:8080/"
    },
    "executionInfo": {
     "elapsed": 219,
     "status": "ok",
     "timestamp": 1732342866284,
     "user": {
      "displayName": "Анатолий Дуркин",
      "userId": "18258769107134692572"
     },
     "user_tz": -180
    },
    "id": "pckGdc0_ri5u",
    "outputId": "f342f68a-e657-427a-89b8-bf868123ab97"
   },
   "outputs": [],
   "source": [
    "df['family_status'].unique()"
   ]
  },
  {
   "cell_type": "markdown",
   "metadata": {},
   "source": [
    "Тут всё хорошо, проблем нет. Идём дальше, пол."
   ]
  },
  {
   "cell_type": "code",
   "execution_count": null,
   "metadata": {
    "colab": {
     "base_uri": "https://localhost:8080/"
    },
    "executionInfo": {
     "elapsed": 233,
     "status": "ok",
     "timestamp": 1732342896493,
     "user": {
      "displayName": "Анатолий Дуркин",
      "userId": "18258769107134692572"
     },
     "user_tz": -180
    },
    "id": "t5abDOgprl83",
    "outputId": "41070840-ded4-4cf6-8ae6-59b9e3a5b14d"
   },
   "outputs": [],
   "source": [
    "df['gender'].unique()"
   ]
  },
  {
   "cell_type": "markdown",
   "metadata": {},
   "source": [
    "Тут есть какое-то странное значение, давайте посмотрим, где оно встречается."
   ]
  },
  {
   "cell_type": "code",
   "execution_count": null,
   "metadata": {
    "colab": {
     "base_uri": "https://localhost:8080/",
     "height": 118
    },
    "executionInfo": {
     "elapsed": 222,
     "status": "ok",
     "timestamp": 1732342922178,
     "user": {
      "displayName": "Анатолий Дуркин",
      "userId": "18258769107134692572"
     },
     "user_tz": -180
    },
    "id": "0cxhgNfXrtUd",
    "outputId": "b5d7f66b-fef9-4c9e-80c2-83adfa659929"
   },
   "outputs": [],
   "source": [
    "df[df['gender']=='XNA']"
   ]
  },
  {
   "cell_type": "markdown",
   "metadata": {},
   "source": [
    "Всего одна строка, по которой изначальный пол человека мы никак не определим. Что сделаем? Да, удалим, одну строку можно"
   ]
  },
  {
   "cell_type": "code",
   "execution_count": null,
   "metadata": {
    "executionInfo": {
     "elapsed": 203,
     "status": "ok",
     "timestamp": 1732342997243,
     "user": {
      "displayName": "Анатолий Дуркин",
      "userId": "18258769107134692572"
     },
     "user_tz": -180
    },
    "id": "pvfPLwoVrzl1"
   },
   "outputs": [],
   "source": [
    "df = df[df['gender']!='XNA']"
   ]
  },
  {
   "cell_type": "markdown",
   "metadata": {},
   "source": [
    "Ну и наконец самое интересное - цель кредита."
   ]
  },
  {
   "cell_type": "code",
   "execution_count": null,
   "metadata": {
    "colab": {
     "base_uri": "https://localhost:8080/"
    },
    "executionInfo": {
     "elapsed": 230,
     "status": "ok",
     "timestamp": 1732343049723,
     "user": {
      "displayName": "Анатолий Дуркин",
      "userId": "18258769107134692572"
     },
     "user_tz": -180
    },
    "id": "tFppFf7KsC7k",
    "outputId": "25a79547-b3ef-4c36-d831-1f2a0c44c812"
   },
   "outputs": [],
   "source": [
    "df['purpose'].unique()"
   ]
  },
  {
   "cell_type": "markdown",
   "metadata": {},
   "source": [
    "Что ж, тут есть где разгуляться. Каждый писал, как мог. В итоге у нас получилось много разных фраз с одинаковым смыслом. На какие категории вы бы это разделили?\n",
    "\n",
    "Определённо, тут есть \"свадьба\", \"образование\", \"автомобиль\" и \"недвижимость\". В последнюю можно свести всё про недвижимость и жильё. Итак, хотим только четыре категории, как же мы произведём это превращение? Отбирать вручную?\n",
    "\n",
    "Хорошая идея, можно попытаться определять подходящую категорию по основе слова - \"образ\" или \"авто\" встречаются только в своих категориях, а значит помогут чётко их разделить.\n",
    "\n",
    "В это раз вновь воспользуемся методом `apply`, но напишем для него полноценную функцию. Однако тут мы метод будем применять только к одному столбцу, ведь нам не нужны значения других, а значит в функцию будет передаваться не строка или столбец датафрейма, а каждое значение выбранного нами столбца."
   ]
  },
  {
   "cell_type": "code",
   "execution_count": null,
   "metadata": {
    "executionInfo": {
     "elapsed": 229,
     "status": "ok",
     "timestamp": 1732344343812,
     "user": {
      "displayName": "Анатолий Дуркин",
      "userId": "18258769107134692572"
     },
     "user_tz": -180
    },
    "id": "Ro2mzXvYulyN"
   },
   "outputs": [],
   "source": [
    "def purpose_type(value):\n",
    "  if 'свад' in value:\n",
    "    return 'свадьба'\n",
    "  elif 'образ' in value:\n",
    "    return 'образование'\n",
    "  elif 'авто' in value:\n",
    "    return 'автомобиль'\n",
    "  else:\n",
    "    return 'недвижимость'"
   ]
  },
  {
   "cell_type": "code",
   "execution_count": null,
   "metadata": {
    "colab": {
     "base_uri": "https://localhost:8080/"
    },
    "executionInfo": {
     "elapsed": 220,
     "status": "ok",
     "timestamp": 1732344384460,
     "user": {
      "displayName": "Анатолий Дуркин",
      "userId": "18258769107134692572"
     },
     "user_tz": -180
    },
    "id": "t2mXs_AqsRDs",
    "outputId": "fec2a79e-edae-4e04-c17e-c127dd36bba8"
   },
   "outputs": [],
   "source": [
    "df['purpose'] = df['purpose'].apply(purpose_type)"
   ]
  },
  {
   "cell_type": "code",
   "execution_count": null,
   "metadata": {
    "colab": {
     "base_uri": "https://localhost:8080/"
    },
    "executionInfo": {
     "elapsed": 223,
     "status": "ok",
     "timestamp": 1732344393110,
     "user": {
      "displayName": "Анатолий Дуркин",
      "userId": "18258769107134692572"
     },
     "user_tz": -180
    },
    "id": "ES7zb3cExVBm",
    "outputId": "30ee336a-b1d8-432c-d818-169f545283a2"
   },
   "outputs": [],
   "source": [
    "df['purpose'].unique()"
   ]
  },
  {
   "cell_type": "markdown",
   "metadata": {},
   "source": [
    "Получилось! У нас осталось только четыре уникальных значения. Это явно упростит в дальнейшем работу с данными.\n",
    "\n",
    "А теперь обратимся к следующей проблеме."
   ]
  },
  {
   "cell_type": "markdown",
   "metadata": {
    "id": "HjFvM9mxxrl_"
   },
   "source": [
    "## Выбросы"
   ]
  },
  {
   "cell_type": "markdown",
   "metadata": {},
   "source": [
    "Текстовые столбцы мы обработали, вернемся к числовым. Вновь взглянем на основные метрики, какие проблемы видим?"
   ]
  },
  {
   "cell_type": "code",
   "execution_count": null,
   "metadata": {
    "colab": {
     "base_uri": "https://localhost:8080/",
     "height": 300
    },
    "executionInfo": {
     "elapsed": 205,
     "status": "ok",
     "timestamp": 1732344477464,
     "user": {
      "displayName": "Анатолий Дуркин",
      "userId": "18258769107134692572"
     },
     "user_tz": -180
    },
    "id": "BASRqeuDxap1",
    "outputId": "28387301-ec8e-4c08-9ca0-78c155a13eff"
   },
   "outputs": [],
   "source": [
    "df.describe()"
   ]
  },
  {
   "cell_type": "markdown",
   "metadata": {},
   "source": [
    "Мы точно видим проблемы с количеством детей у людей. Это нельзя оставлять без внимания. И нулевой возраст вызывает вопросы. И на зарплату точно стоит обратить внимание, там явно что-нибудь найдётся.\n",
    "\n",
    "Начнём с детей, посмотрим на тех, у кого их -1."
   ]
  },
  {
   "cell_type": "code",
   "execution_count": null,
   "metadata": {
    "colab": {
     "base_uri": "https://localhost:8080/",
     "height": 313
    },
    "executionInfo": {
     "elapsed": 230,
     "status": "ok",
     "timestamp": 1732344637017,
     "user": {
      "displayName": "Анатолий Дуркин",
      "userId": "18258769107134692572"
     },
     "user_tz": -180
    },
    "id": "sQ6_Q3JGyPEV",
    "outputId": "56b15263-5d2d-4737-d7b0-60fd93770a75"
   },
   "outputs": [],
   "source": [
    "df[df['children']==-1].head()"
   ]
  },
  {
   "cell_type": "markdown",
   "metadata": {},
   "source": [
    "Никаких явных зависимостей.\n",
    "\n",
    "Поскольку от -1 до 20 не так много, то можем посчитать, сколько человек у нас в датасете имеют то или иное количество детей."
   ]
  },
  {
   "cell_type": "code",
   "execution_count": null,
   "metadata": {
    "colab": {
     "base_uri": "https://localhost:8080/",
     "height": 366
    },
    "executionInfo": {
     "elapsed": 201,
     "status": "ok",
     "timestamp": 1732344691379,
     "user": {
      "displayName": "Анатолий Дуркин",
      "userId": "18258769107134692572"
     },
     "user_tz": -180
    },
    "id": "wjyp_v2ryWQd",
    "outputId": "4550a985-5f35-44aa-a6e6-33e6f1f3b826"
   },
   "outputs": [],
   "source": [
    "df['children'].value_counts()"
   ]
  },
  {
   "cell_type": "markdown",
   "metadata": {},
   "source": [
    "Интересный результат, у большинства от 0 до 5 детей, но есть 47 человек с -1 ребенком и 76 с 20 детьми. Если первый выброс явно ошибочный, то со вторым чуть сложнее. Да, у человека, пожалуй, могут быть 20 детей... Но! Их тут целый 76! И почему-то от 5 до 20 никаких промежуточных значений. Поэтому такое количество детей очень и очень сомнительно.\n",
    "\n",
    "В чем могла быть ошибка, из-за чего это возникло? Может минус повился случайно, может у двойки нечаянно приписали ноль... Но тут очень сложно выдвинуть хорошую, твёрдую версию.\n",
    "\n",
    "А может удалить? Сколько у нас этих данных?"
   ]
  },
  {
   "cell_type": "code",
   "execution_count": null,
   "metadata": {
    "colab": {
     "base_uri": "https://localhost:8080/"
    },
    "executionInfo": {
     "elapsed": 238,
     "status": "ok",
     "timestamp": 1732344936025,
     "user": {
      "displayName": "Анатолий Дуркин",
      "userId": "18258769107134692572"
     },
     "user_tz": -180
    },
    "id": "hGwfoWLpyjiU",
    "outputId": "d27a33c9-3200-4b17-859a-90ae31bafdab"
   },
   "outputs": [],
   "source": [
    "(47+76) / df.shape[0] * 100"
   ]
  },
  {
   "cell_type": "markdown",
   "metadata": {},
   "source": [
    "Всего лишь чуть больше половины процента! Да, это не один и не пять человек, но в условиях, когда мы никак не можем исправить значения, полпроцента можно и удалить."
   ]
  },
  {
   "cell_type": "code",
   "execution_count": null,
   "metadata": {
    "executionInfo": {
     "elapsed": 221,
     "status": "ok",
     "timestamp": 1732345044337,
     "user": {
      "displayName": "Анатолий Дуркин",
      "userId": "18258769107134692572"
     },
     "user_tz": -180
    },
    "id": "AG5GNhROzekR"
   },
   "outputs": [],
   "source": [
    "df = df[(df['children']>=0)&(df['children']<10)]"
   ]
  },
  {
   "cell_type": "code",
   "execution_count": null,
   "metadata": {
    "colab": {
     "base_uri": "https://localhost:8080/",
     "height": 303
    },
    "executionInfo": {
     "elapsed": 228,
     "status": "ok",
     "timestamp": 1732345054345,
     "user": {
      "displayName": "Анатолий Дуркин",
      "userId": "18258769107134692572"
     },
     "user_tz": -180
    },
    "id": "Q0I3fYktz5tA",
    "outputId": "5978275b-e31f-4250-bd79-094de4a9d788"
   },
   "outputs": [],
   "source": [
    "df['children'].value_counts()"
   ]
  },
  {
   "cell_type": "markdown",
   "metadata": {},
   "source": [
    "Теперь с детьми всё хорошо, все значения выглядят реалистично и не вызывают вопросов.\n",
    "\n",
    "Перейдём к данным с возрастом. Обратимся к гистограмме."
   ]
  },
  {
   "cell_type": "code",
   "execution_count": null,
   "metadata": {},
   "outputs": [],
   "source": [
    "df['dob_years'].hist()"
   ]
  },
  {
   "cell_type": "markdown",
   "metadata": {},
   "source": [
    "Зачастую гистограмма на 10 корзин не сильно помогает понять данные, хотя в данном случае справляется хорошо. Но уточним гистограмму, увеличив количество корзин с помощью агрумента `bins`."
   ]
  },
  {
   "cell_type": "code",
   "execution_count": null,
   "metadata": {
    "colab": {
     "base_uri": "https://localhost:8080/",
     "height": 447
    },
    "executionInfo": {
     "elapsed": 982,
     "status": "ok",
     "timestamp": 1732345139342,
     "user": {
      "displayName": "Анатолий Дуркин",
      "userId": "18258769107134692572"
     },
     "user_tz": -180
    },
    "id": "nlTlcNJu0AJg",
    "outputId": "b1da35ad-1954-4e35-fa92-c6e1de3a764a"
   },
   "outputs": [],
   "source": [
    "df['dob_years'].hist(bins=20)"
   ]
  },
  {
   "cell_type": "markdown",
   "metadata": {},
   "source": [
    "Если к совершеннолетним людям нет никаких вопросов, то на что в банке пытялись взять кредит очень молодые клиенты? Посмотрим на них."
   ]
  },
  {
   "cell_type": "code",
   "execution_count": null,
   "metadata": {
    "colab": {
     "base_uri": "https://localhost:8080/",
     "height": 582
    },
    "executionInfo": {
     "elapsed": 351,
     "status": "ok",
     "timestamp": 1732345163884,
     "user": {
      "displayName": "Анатолий Дуркин",
      "userId": "18258769107134692572"
     },
     "user_tz": -180
    },
    "id": "3WIUhI9J0Hvg",
    "outputId": "e1545088-c056-4b7b-941b-20f0c18ee5bd"
   },
   "outputs": [],
   "source": [
    "df[df['dob_years']<10]"
   ]
  },
  {
   "cell_type": "markdown",
   "metadata": {},
   "source": [
    "Да, похоже, тут точно ошибка. В таком юном возрасте и столько стажа! Семейное положение, образование...\n",
    "\n",
    "Как будем исправлять?\n",
    "\n",
    "Восстановить возраст по стажу? Можно попробовать. Давайте посмотрим, как зависит возраст от стажа. Для этого отсортируем стаж по возрастанию и посмотрим на скорость роста такого графика."
   ]
  },
  {
   "cell_type": "code",
   "execution_count": null,
   "metadata": {
    "colab": {
     "base_uri": "https://localhost:8080/",
     "height": 860
    },
    "executionInfo": {
     "elapsed": 1779,
     "status": "ok",
     "timestamp": 1732345506064,
     "user": {
      "displayName": "Анатолий Дуркин",
      "userId": "18258769107134692572"
     },
     "user_tz": -180
    },
    "id": "leavXm8I0W2o",
    "outputId": "7024e366-908b-4852-f2fb-349e399d9f3b"
   },
   "outputs": [],
   "source": [
    "df.sort_values('days_employed').reset_index()[['days_employed']].plot()"
   ]
  },
  {
   "cell_type": "markdown",
   "metadata": {},
   "source": [
    "Тут мы видим, что примерно до 5 тысяч дней количество людей с таким стажем растёт достаточно равномерно. А вот потом чем больше стаж, тем меньше таких людей - график начинает расти быстрее. Затем мы видим скос из пенсионеров (помните, тех, что были с очень большим стажем изначально) и в конце несколько человек с очень большим стажем.\n",
    "\n",
    "Теперь посмотрим, как при этом меняется возраст."
   ]
  },
  {
   "cell_type": "code",
   "execution_count": null,
   "metadata": {},
   "outputs": [],
   "source": [
    "df.sort_values('days_employed').reset_index()[['dob_years']].plot()"
   ]
  },
  {
   "cell_type": "markdown",
   "metadata": {},
   "source": [
    "Да, не такое мы ожидали увидеть... Заметим, что нижняя граница (наиболее плотная её часть) похожа по динамике на график стажа, такое же ускорение роста и скосы под конец. Но ширина разброса явно не позволит нам более-менее точно оценить возраст человека по стажу.\n",
    "\n",
    "Но вы видели, сколько у нас таких данных? Всего 100 строк. Мы уже удаляли чуть больше этого, всего полпроцента. И тут схожая величина. В сумме будет чуть больше процента, такую потерю даннух мы можем себе позволить."
   ]
  },
  {
   "cell_type": "code",
   "execution_count": null,
   "metadata": {
    "executionInfo": {
     "elapsed": 205,
     "status": "ok",
     "timestamp": 1732345531268,
     "user": {
      "displayName": "Анатолий Дуркин",
      "userId": "18258769107134692572"
     },
     "user_tz": -180
    },
    "id": "lIG1XK9d1sVY"
   },
   "outputs": [],
   "source": [
    "df = df[df['dob_years']>10]"
   ]
  },
  {
   "cell_type": "markdown",
   "metadata": {},
   "source": [
    "Пропустим столбцы с булевыми значениями и категориями, там всё хорошо. У нас остался последний столбец - зарплата.\n",
    "\n",
    "Прежде всего я считаю, что данный столбец так же не нуждается в дробной части, к чему нам такая точность? Помните, как сменить тип данных столбца?"
   ]
  },
  {
   "cell_type": "code",
   "execution_count": null,
   "metadata": {
    "colab": {
     "base_uri": "https://localhost:8080/"
    },
    "executionInfo": {
     "elapsed": 240,
     "status": "ok",
     "timestamp": 1732345814535,
     "user": {
      "displayName": "Анатолий Дуркин",
      "userId": "18258769107134692572"
     },
     "user_tz": -180
    },
    "id": "NwU-zYU01xcn",
    "outputId": "41f5da6f-9290-42dc-eb01-ea98da23034b"
   },
   "outputs": [],
   "source": [
    "df['total_income'] = df['total_income'].astype(int)"
   ]
  },
  {
   "cell_type": "markdown",
   "metadata": {},
   "source": [
    "А теперь посмотрим на основные метрики."
   ]
  },
  {
   "cell_type": "code",
   "execution_count": null,
   "metadata": {
    "colab": {
     "base_uri": "https://localhost:8080/",
     "height": 335
    },
    "executionInfo": {
     "elapsed": 242,
     "status": "ok",
     "timestamp": 1732345836051,
     "user": {
      "displayName": "Анатолий Дуркин",
      "userId": "18258769107134692572"
     },
     "user_tz": -180
    },
    "id": "83iQYKb222wb",
    "outputId": "875aa3f8-14be-42e8-9448-72df9e283ebd"
   },
   "outputs": [],
   "source": [
    "df['total_income'].describe()"
   ]
  },
  {
   "cell_type": "markdown",
   "metadata": {},
   "source": [
    "Отсюда мало чего можно почерпнуть, но если поначалу рост зарплат идёт достаточно постепенно - 20 тысяч, 100, 140, 195 на каждые 25% данных, то последний скачок со 195 до двух миллионов достаточно быстрый, возможно, там что-то интересное. Посмотрим на гистограмму."
   ]
  },
  {
   "cell_type": "code",
   "execution_count": null,
   "metadata": {
    "colab": {
     "base_uri": "https://localhost:8080/",
     "height": 465
    },
    "executionInfo": {
     "elapsed": 441,
     "status": "ok",
     "timestamp": 1732345947216,
     "user": {
      "displayName": "Анатолий Дуркин",
      "userId": "18258769107134692572"
     },
     "user_tz": -180
    },
    "id": "YkqeuUM_26_Y",
    "outputId": "b8da5bdb-00a8-4bf6-da36-95f1d7aed798"
   },
   "outputs": [],
   "source": [
    "df['total_income'].hist(bins=30)"
   ]
  },
  {
   "cell_type": "markdown",
   "metadata": {},
   "source": [
    "Гистограмма не будет рисовать пустое место, она всегда начинается и заканчивается там, где есть данные. Значит у нас есть данные, которые значительно отстоят от основной массы данных - те самые два миллиона.\n",
    "\n",
    "Построим ещё один график - boxplot или \"ящик с усами\" (также диаграмма размаха или коробчатая диаграмма)."
   ]
  },
  {
   "cell_type": "code",
   "execution_count": null,
   "metadata": {
    "colab": {
     "base_uri": "https://localhost:8080/",
     "height": 373
    },
    "executionInfo": {
     "elapsed": 242,
     "status": "ok",
     "timestamp": 1732346171174,
     "user": {
      "displayName": "Анатолий Дуркин",
      "userId": "18258769107134692572"
     },
     "user_tz": -180
    },
    "id": "72AFkLoO3Snu",
    "outputId": "464ce36e-bbc8-4936-ee34-d9229aac4234"
   },
   "outputs": [],
   "source": [
    "df.boxplot('total_income', vert=False, figsize=(15,5))"
   ]
  },
  {
   "cell_type": "markdown",
   "metadata": {
    "id": "hTj9jmN95wMc"
   },
   "source": [
    "О чём может рассказать этот график?\n",
    "\n",
    "Ящик - это половина всех данных, его границы - первая и ретья квартиль (25 и 75 процентиль, то ясть отделяют 25% и 75% данных), черта посередине ящика - медиана. Расстояние между 1 и 3 квартилями называется межквартильным размахом. Длина \"усов\" - полтора межквартильных размаха. Усы разной длины, так как левый ограничивается минимальным значением и поэтому заканчивается раньше. Точки за границами усов - потенциальные выбросы.\n",
    "\n",
    "Тут мы видим, что у нас очень много выбросов справа. Причём есть такие, которые отстоят очень далеко, а есть и те, что лежат ближе и кучнее. Кучность говорит о том, что, скорее всего, данные эти в пределах нормы. А вот то, что лежит сильно отдельно, вызывает вопросы. Такие данные лучше убрать.\n",
    "\n",
    "Но по какому уровню обрезать, чтобы не удалить слишком много данных? Обратимся к методу `quantile`, он выдаёт значение, отделяющее указанную долю данных. Посмотрим на значения, отделяющие 90%, 95%, 97%, 99%."
   ]
  },
  {
   "cell_type": "code",
   "execution_count": null,
   "metadata": {},
   "outputs": [],
   "source": [
    "df['total_income'].quantile([0.9, 0.95, 0.97, 0.98, 0.99])"
   ]
  },
  {
   "cell_type": "markdown",
   "metadata": {},
   "source": [
    "Значения растут достаточно равномерно, а значение 99% лежит в плотном месте по точкам на графике. Посмотрим ещё большие процентили."
   ]
  },
  {
   "cell_type": "code",
   "execution_count": null,
   "metadata": {
    "colab": {
     "base_uri": "https://localhost:8080/",
     "height": 366
    },
    "executionInfo": {
     "elapsed": 208,
     "status": "ok",
     "timestamp": 1732346598653,
     "user": {
      "displayName": "Анатолий Дуркин",
      "userId": "18258769107134692572"
     },
     "user_tz": -180
    },
    "id": "zvmvD9Dt3s7K",
    "outputId": "a9a8783d-174e-427d-ee68-c7164979712d"
   },
   "outputs": [],
   "source": [
    "df['total_income'].quantile([0.9, 0.95, 0.97, 0.98, 0.99, 0.995, 0.997, 0.998, 0.999])"
   ]
  },
  {
   "cell_type": "markdown",
   "metadata": {},
   "source": [
    "Данные начинают быстро расти, но в какой момент это происходит? Посмотрим также на график отсортированных значений."
   ]
  },
  {
   "cell_type": "code",
   "execution_count": null,
   "metadata": {
    "colab": {
     "base_uri": "https://localhost:8080/",
     "height": 462
    },
    "executionInfo": {
     "elapsed": 454,
     "status": "ok",
     "timestamp": 1732346679233,
     "user": {
      "displayName": "Анатолий Дуркин",
      "userId": "18258769107134692572"
     },
     "user_tz": -180
    },
    "id": "tRTZZHx-5nxb",
    "outputId": "a6e380bb-9beb-48c5-c3dc-dafe8d7499ad"
   },
   "outputs": [],
   "source": [
    "df.sort_values('total_income').reset_index()['total_income'].plot(grid=True)"
   ]
  },
  {
   "cell_type": "markdown",
   "metadata": {},
   "source": [
    "Здесь можно отметить, что до полумиллиона график растёт спокойно, а затем начинает расти крайне быстро. Наверно, следует обрезать по этому значению. А лучше возьмём близкое - значение 99 перцентиля, оно отличается совсем немного. По нему и обрежем."
   ]
  },
  {
   "cell_type": "code",
   "execution_count": null,
   "metadata": {
    "executionInfo": {
     "elapsed": 237,
     "status": "ok",
     "timestamp": 1732346753715,
     "user": {
      "displayName": "Анатолий Дуркин",
      "userId": "18258769107134692572"
     },
     "user_tz": -180
    },
    "id": "DK3yU-Ul6Iyq"
   },
   "outputs": [],
   "source": [
    "df = df[df['total_income'] < df['total_income'].quantile(0.99)]"
   ]
  },
  {
   "cell_type": "markdown",
   "metadata": {},
   "source": [
    "Вновь обратимся к графикам."
   ]
  },
  {
   "cell_type": "code",
   "execution_count": null,
   "metadata": {
    "colab": {
     "base_uri": "https://localhost:8080/",
     "height": 447
    },
    "executionInfo": {
     "elapsed": 582,
     "status": "ok",
     "timestamp": 1732346762760,
     "user": {
      "displayName": "Анатолий Дуркин",
      "userId": "18258769107134692572"
     },
     "user_tz": -180
    },
    "id": "Ncmli3So6bBi",
    "outputId": "5142ff40-1358-4833-c6c8-ab08811d5de1"
   },
   "outputs": [],
   "source": [
    "df['total_income'].hist()"
   ]
  },
  {
   "cell_type": "code",
   "execution_count": null,
   "metadata": {
    "colab": {
     "base_uri": "https://localhost:8080/",
     "height": 360
    },
    "executionInfo": {
     "elapsed": 543,
     "status": "ok",
     "timestamp": 1732346783754,
     "user": {
      "displayName": "Анатолий Дуркин",
      "userId": "18258769107134692572"
     },
     "user_tz": -180
    },
    "id": "bxR5bVZm6dJq",
    "outputId": "44217559-2915-4a6e-8e38-96bb80886cc0"
   },
   "outputs": [],
   "source": [
    "df.boxplot('total_income', vert=False, figsize=(15,5))"
   ]
  },
  {
   "cell_type": "markdown",
   "metadata": {},
   "source": [
    "Теперь и гистограмма, и \"ящик с усами\" выглядят очень хорошо. Это нас устраивает. Смотрите на разные графики и методы представления данных, когда решаете, что удалить, а что оставить, они могут дать вам много разносторонней информации."
   ]
  },
  {
   "cell_type": "markdown",
   "metadata": {},
   "source": [
    "## Итог"
   ]
  },
  {
   "cell_type": "code",
   "execution_count": null,
   "metadata": {
    "colab": {
     "base_uri": "https://localhost:8080/",
     "height": 617
    },
    "executionInfo": {
     "elapsed": 260,
     "status": "ok",
     "timestamp": 1732346855722,
     "user": {
      "displayName": "Анатолий Дуркин",
      "userId": "18258769107134692572"
     },
     "user_tz": -180
    },
    "id": "cqhhzbQV6iSK",
    "outputId": "af67ccc5-a965-4519-aed8-1f51dd36840e"
   },
   "outputs": [],
   "source": [
    "df"
   ]
  },
  {
   "cell_type": "markdown",
   "metadata": {},
   "source": [
    "Итак, мы обработали наши данные и получили табличку с красивыми и чистыми значениями. С такой таблицей уже можно работать и не бояться, что что-либо исказит наши выводы.\n",
    "\n",
    "Важно, что при предобработке, как и при анализе и создании моделей, нет правильного и неправильного решения. Каждое действие очень субъективно, способы обработки очень сильно разнятся от человека к человеку. Поэтому важно понимать причины и объяснять свои способы подготовки данных."
   ]
  },
  {
   "cell_type": "code",
   "execution_count": null,
   "metadata": {
    "id": "VSnzK9bq6z45"
   },
   "outputs": [],
   "source": []
  }
 ],
 "metadata": {
  "colab": {
   "authorship_tag": "ABX9TyNsLc9+k0iHEGF6dOCp6xTo",
   "provenance": []
  },
  "kernelspec": {
   "display_name": "Python 3 (ipykernel)",
   "language": "python",
   "name": "python3"
  },
  "language_info": {
   "codemirror_mode": {
    "name": "ipython",
    "version": 3
   },
   "file_extension": ".py",
   "mimetype": "text/x-python",
   "name": "python",
   "nbconvert_exporter": "python",
   "pygments_lexer": "ipython3",
   "version": "3.12.4"
  }
 },
 "nbformat": 4,
 "nbformat_minor": 4
}
