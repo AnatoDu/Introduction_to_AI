{
 "cells": [
  {
   "cell_type": "markdown",
   "id": "e6538a9a-8e18-40ce-904b-8901ab206448",
   "metadata": {},
   "source": [
    "# API"
   ]
  },
  {
   "cell_type": "markdown",
   "id": "f5c9d48b-c7c4-45c1-a3d6-be09e12608b1",
   "metadata": {},
   "source": [
    "Автор ноутбука - Дуркин Анатолий Альбертович\n",
    "\n",
    "Преподаватель кафедры прикладной математики и компьютерных наук СГУ им. Питирима Сорокина\n",
    "\n",
    "Замечания, предложения, идеи, вопросы, связь с автором:\n",
    "- anatoliy.durkin@mail.ru\n",
    "- Telegram - @AnatoDu\n",
    "\n",
    "Больше информации и материалов на канале автора: https://t.me/smth_on_it"
   ]
  },
  {
   "cell_type": "markdown",
   "id": "f777f542-13e8-4882-9983-5cd9ee16b4da",
   "metadata": {},
   "source": [
    "## Что за API"
   ]
  },
  {
   "cell_type": "markdown",
   "id": "09dfee5e-72e1-4744-a88f-4b4cd40a7855",
   "metadata": {},
   "source": [
    "API (application programming interface, интерфейс программирования приложения) — программный интерфейс, то есть описание способов взаимодействия одной компьютерной программы с другими. Это своеобразный аналог пользовательского интерфеса, но для программ.\n",
    "\n",
    "API предоставляет набор функций, которые упрощают взаимодействие с системой. API определяется и создаётся разработчиком, в связи с чем у всех есть свои особенности, которые надо изучать, к которым надо привыкать. К сожалению, не всегда документации позволяют полностью понять возможности того или иного API.\n",
    "\n",
    "Чаще всего API это использование функций библиотек, которые возвращают разные объекты. Так, иногда даже создают сторонние библиотеки для работы с API - для Telegram помимо своего собственного API можно найти библиотеки pyrogram и telethon, которые упрощают взаимодействие. Но иногда бывает иначе. Например, в том варианте, который мы сейчас рассмотрим."
   ]
  },
  {
   "cell_type": "code",
   "execution_count": null,
   "id": "dc958537-1f11-43b4-bff1-446ee818d910",
   "metadata": {},
   "outputs": [],
   "source": [
    "import pandas as pd\n",
    "import requests\n",
    "import json"
   ]
  },
  {
   "cell_type": "markdown",
   "id": "24968025-8a14-4fa9-badb-d28ef7f18c37",
   "metadata": {},
   "source": [
    "## API hh.ru"
   ]
  },
  {
   "cell_type": "markdown",
   "id": "20a99bcf-e321-499d-b229-995819dfbedc",
   "metadata": {},
   "source": [
    "API hh.ru позволяет создавать приложения, интегрирующиеся с сайтом. Но мы используем это для того, чтобы достать информацию с сайта и использовать её для анализа.\n",
    "\n",
    "Документация: https://dev.hh.ru/\n",
    "\n",
    "В документации очень подробно рассказано, как пользоваться API, к тому же, она на русском языке. Там пишут, что для работы приложения нужно авторизоваться и описывают весь процесс. Вы можете изучить это, но сейчас мы будем доставать данные без авторизации.\n",
    "\n",
    "Допустим, мы хотим получить данные по всем вакансиям, как если бы искали на сайте вакансии по должности \"Data Scientist\"."
   ]
  },
  {
   "cell_type": "code",
   "execution_count": null,
   "id": "67800d21-d416-4c8a-a94e-0bc97918ad53",
   "metadata": {},
   "outputs": [],
   "source": [
    "url = 'https://api.hh.ru/vacancies'\n",
    "params = {'text': 'Data Scientist', 'per_page': '20', 'page': '1'}\n",
    "src = requests.get(url, params=params)\n",
    "data = src.json()"
   ]
  },
  {
   "cell_type": "markdown",
   "id": "a48ccac4-a207-4f85-ae28-27befe016450",
   "metadata": {},
   "source": [
    "Мы указали адрес, откуда получать данные. Здесь взаимодействие происходит не через библиотеку или функции, а при обращении к определенному адресу.\n",
    "\n",
    "Также мы указываем параметры: должность, которую ищем, сколько вакансий на странице отображать и какую страницу читаем.\n",
    "\n",
    "А дальше мы просто получаем данные по указанным параметрам и превращаем их в удобный нам формат. В данном случае данные возвращаются нам в формате JSON - очень популярном для общения сервисов в сети - поэтому в таком виде их и обрабатываем.\n",
    "\n",
    "Посмотрим, что мы получили."
   ]
  },
  {
   "cell_type": "code",
   "execution_count": null,
   "id": "af17f62d-dc4e-42a0-b2a0-622316b06b06",
   "metadata": {
    "scrolled": true
   },
   "outputs": [],
   "source": [
    "data"
   ]
  },
  {
   "cell_type": "markdown",
   "id": "69c284e6-533a-4d44-b823-e00c43faa21b",
   "metadata": {},
   "source": [
    "Мы получили вакансии, как и запрашивали. Вот только теперь они лежат в словарях, которые нам предстоит разобрать. Описанипе всех тегов вы можете найти в документации.\n",
    "\n",
    "Итак, посмотрим, какие ключи есть в нашем словаре."
   ]
  },
  {
   "cell_type": "code",
   "execution_count": null,
   "id": "7d1a74b3-e5e6-4dce-80bf-fb539c118982",
   "metadata": {},
   "outputs": [],
   "source": [
    "data.keys()"
   ]
  },
  {
   "cell_type": "markdown",
   "id": "fe8febe6-7e08-4104-b961-dff0a1715b87",
   "metadata": {},
   "source": [
    "Здесь указаны параметры, которые мы передавали (относительно страниц и числа вакансий на них), а также прочие основные параметры. Но нас интересует только список с вакансиями, он лежит с ключом `items`."
   ]
  },
  {
   "cell_type": "code",
   "execution_count": null,
   "id": "8e23ba6c-95c6-4581-832b-9abed9f36b34",
   "metadata": {
    "scrolled": true
   },
   "outputs": [],
   "source": [
    "len(data['items'])"
   ]
  },
  {
   "cell_type": "markdown",
   "id": "bc399a64-6a3b-40ce-846e-61a8d96dc954",
   "metadata": {},
   "source": [
    "Тут мы оценили размер списка, лежащего под указанным ключом. В нём действительно 20 элементов, как мы и запрашивали. Посмотрим на первый."
   ]
  },
  {
   "cell_type": "code",
   "execution_count": null,
   "id": "8724d255-0582-436b-94f2-81c8af19d2b3",
   "metadata": {},
   "outputs": [],
   "source": [
    "data['items'][0]"
   ]
  },
  {
   "cell_type": "markdown",
   "id": "b613a36b-6765-4fb5-bad9-f8f50397c20c",
   "metadata": {},
   "source": [
    "## Параметры"
   ]
  },
  {
   "cell_type": "markdown",
   "id": "8be12bb7-f10f-4d01-8fbe-0f4f7c82627e",
   "metadata": {},
   "source": [
    "Мы видим большое количество параметров, свойств, описание которых (подробное и на русском) есть в документации. Отсюда многое можно взять в нашу таблицу для анализа. Я возьму лишь пару параметров для демонстрации."
   ]
  },
  {
   "cell_type": "code",
   "execution_count": null,
   "id": "542e8804-840a-488e-b7c9-3754d576f31f",
   "metadata": {},
   "outputs": [],
   "source": [
    "vacancy = data['items'][0]"
   ]
  },
  {
   "cell_type": "code",
   "execution_count": null,
   "id": "5f3e3734-fc3d-4ebd-977b-162688490869",
   "metadata": {},
   "outputs": [],
   "source": [
    "vacancy['name']"
   ]
  },
  {
   "cell_type": "code",
   "execution_count": null,
   "id": "281a7cff-499b-4184-b1ad-7e89e26acea0",
   "metadata": {},
   "outputs": [],
   "source": [
    "vacancy['id']"
   ]
  },
  {
   "cell_type": "code",
   "execution_count": null,
   "id": "0ea0701d-d7f9-4669-9484-b755615c1723",
   "metadata": {},
   "outputs": [],
   "source": [
    "vacancy['salary']"
   ]
  },
  {
   "cell_type": "markdown",
   "id": "c0086361-3435-4077-b601-a39ec4b9c961",
   "metadata": {},
   "source": [
    "Вот тут могут начинаться первые проблемы. Данных о зарплате может и не быть вовсе, а могут быть неполные. Тут стоит обрабатывать данные аккуратно.\n",
    "\n",
    "Подберём две вакансии, одну с зарплатой, другую без, и посмотрим разницу."
   ]
  },
  {
   "cell_type": "code",
   "execution_count": null,
   "id": "30d77237-707c-4b02-9833-736246870fb7",
   "metadata": {},
   "outputs": [],
   "source": [
    "# с зарплатой\n",
    "vacancy_s = [v for v in data['items'] if v['salary']][0]\n",
    "# без зарплаты\n",
    "vacancy_w = [v for v in data['items'] if not v['salary']][0]"
   ]
  },
  {
   "cell_type": "markdown",
   "id": "d04df441-aa31-4db2-be76-f2cfc2a08a4b",
   "metadata": {},
   "source": [
    "Дадите объяснение моим действиям? Если не очень понятно, то пустое значение `None` приравнивается к `False`, поэтому условие выглядит именно так. А как бы сделали вы?"
   ]
  },
  {
   "cell_type": "code",
   "execution_count": null,
   "id": "47a3fe45-9930-41d6-abbd-0c55d2d0ebb0",
   "metadata": {},
   "outputs": [],
   "source": [
    "vacancy_w['salary']"
   ]
  },
  {
   "cell_type": "markdown",
   "id": "f40233a7-5c35-4351-8a95-5a99202d78c3",
   "metadata": {},
   "source": [
    "Тут и правда не указаны зарплаты. Что ж, посмотрим на вторую вакансию."
   ]
  },
  {
   "cell_type": "code",
   "execution_count": null,
   "id": "c1aaf930-09e7-4ea7-aa0d-cfa18e8a93b2",
   "metadata": {},
   "outputs": [],
   "source": [
    "vacancy_s['salary']"
   ]
  },
  {
   "cell_type": "markdown",
   "id": "8a6a2067-2b26-4424-a999-40faaa18da1f",
   "metadata": {},
   "source": [
    "Внутри не просто число, внутри лежит целый словарь (если что-то пошло не так, выгрузите список вакансий снова или увеличьте размер выгрузки, возможно, в этом нет вакансий с зарплатой). А в нём указаны границы зарплатной вилки, валюта и даже указание, до или после вычета налогов.\n",
    "\n",
    "Как бы вы поступили с такими данными? Я возьму только одно из значений - нижнюю границу зарплаты. Но это для демонстрации, ваше решение явно будет отличаться."
   ]
  },
  {
   "cell_type": "code",
   "execution_count": null,
   "id": "bdd8e581-260c-4edc-a492-c1b5b6e18bc2",
   "metadata": {},
   "outputs": [],
   "source": [
    "vacancy_s['salary']['from']"
   ]
  },
  {
   "cell_type": "markdown",
   "id": "b474e5b1-3bf5-4012-aaef-4069e2920a47",
   "metadata": {},
   "source": [
    "Это всё хорошо, но как же достать это значение, если этого словаря не будет вообще? Конечно, проверить на наличие. Давайте напишем небольшой цикл, пробежав по имеющимся у нас вакансиям."
   ]
  },
  {
   "cell_type": "code",
   "execution_count": null,
   "id": "430dbbfa-a60f-4df8-8983-08c307f33034",
   "metadata": {},
   "outputs": [],
   "source": [
    "for vacancy in data['items']:\n",
    "    if vacancy['salary']:\n",
    "        print(vacancy['salary']['from'])\n",
    "    else:\n",
    "        print('Не указано')"
   ]
  },
  {
   "cell_type": "markdown",
   "id": "d5276479-c5b9-43bf-a9a6-1c0bc857e8a2",
   "metadata": {},
   "source": [
    "Сможем ли мы сократить это условие? Конечно, воспользуемся тернарным оператором:"
   ]
  },
  {
   "cell_type": "code",
   "execution_count": null,
   "id": "c71eed37-6fa0-41ed-88b9-ce1cc1871de8",
   "metadata": {},
   "outputs": [],
   "source": [
    "for vacancy in data['items']:\n",
    "    print(vacancy['salary']['from'] if vacancy['salary'] else 'Не указано')"
   ]
  },
  {
   "cell_type": "markdown",
   "id": "754c66fb-6014-496f-bebf-22f354816c5d",
   "metadata": {},
   "source": [
    "Прекрасно! А главное, кратко и понятно."
   ]
  },
  {
   "cell_type": "markdown",
   "id": "dc0719b0-ddaa-4271-9bfe-b1b5abaaf08b",
   "metadata": {},
   "source": [
    "## Собираем таблицу"
   ]
  },
  {
   "cell_type": "markdown",
   "id": "d15a13bc-ab16-4ed3-b250-b417736c40fa",
   "metadata": {},
   "source": [
    "Попробуем создать небольшую таблицу для данных. Я создам совсем небольшую, чтобы посмотреть, как это работает."
   ]
  },
  {
   "cell_type": "code",
   "execution_count": null,
   "id": "9bf5e948-264a-49b0-987f-80620e593b38",
   "metadata": {},
   "outputs": [],
   "source": [
    "df = pd.DataFrame(columns=['name', 'salary_from'])\n",
    "\n",
    "for vacancy in data['items']:\n",
    "    id = vacancy['id']\n",
    "    name = vacancy['name']\n",
    "    salary_from = vacancy['salary']['from'] if vacancy['salary'] else None\n",
    "    df.loc[id] = [name, salary_from]"
   ]
  },
  {
   "cell_type": "code",
   "execution_count": null,
   "id": "03283da7-6c98-4f41-8d1a-9f3ac1f39bef",
   "metadata": {},
   "outputs": [],
   "source": [
    "df"
   ]
  },
  {
   "cell_type": "markdown",
   "id": "2847fc78-5cf9-4989-8088-2629ebce45dc",
   "metadata": {},
   "source": [
    "Да, табличка и правда получилась!\n",
    "\n",
    "Конечно, я оставил для вас самое интересное. Как минимум, примените бритву Оккама - тут слишком много лишних сущностей, можно и короче. А как максимум..."
   ]
  },
  {
   "cell_type": "markdown",
   "id": "dd7c355a-3c1a-4607-9aec-a45eb713506b",
   "metadata": {},
   "source": [
    "## Парсим интересные вакансии"
   ]
  },
  {
   "cell_type": "markdown",
   "id": "744117c3-17fe-46fd-9850-af955bca2223",
   "metadata": {},
   "source": [
    "Как максимум я хочу, чтобы вы собрали большую таблицу по вакансиям и проанализировали её. При этом выберите ту должность, которая интересно лично вам.\n",
    "\n",
    "Предлагаю такие шаги:\n",
    "\n",
    "1. Какие данные из вакансии заслуживают внимания? Что стоит доставать и помещать в таблицу? Уделите особое внимание численным параметрам - с остальными мы пока не особо учились работать.\n",
    "2. Какие данные могут быть проблемными? Где-то могут встречаться пропуски, как в зарплатах, их нужно обработать.\n",
    "3. Как собрать больше вакансий? Больше 100 на странице не получится, а страниц может быть несколько. Надо собрать данные со всех.\n",
    "4. Какой базовый анализ можно провести? Интересно, какие зарплаты предлагают по должностям, в каких городах сколько вакансий, и прочее, прочее, прочее...\n",
    "\n",
    "Уверен, это не составит большого труда, у вас всё получится!"
   ]
  },
  {
   "cell_type": "code",
   "execution_count": null,
   "id": "af4c603a-d471-49b3-8bd7-c1f49480ac1b",
   "metadata": {},
   "outputs": [],
   "source": [
    "# Ваш код"
   ]
  },
  {
   "cell_type": "code",
   "execution_count": null,
   "id": "e452313d-0d5d-47ea-b0df-c2294ffb72da",
   "metadata": {},
   "outputs": [],
   "source": []
  },
  {
   "cell_type": "code",
   "execution_count": null,
   "id": "3a699743-609b-4587-ad9b-757a7a305f7c",
   "metadata": {},
   "outputs": [],
   "source": []
  }
 ],
 "metadata": {
  "kernelspec": {
   "display_name": "Python 3 (ipykernel)",
   "language": "python",
   "name": "python3"
  },
  "language_info": {
   "codemirror_mode": {
    "name": "ipython",
    "version": 3
   },
   "file_extension": ".py",
   "mimetype": "text/x-python",
   "name": "python",
   "nbconvert_exporter": "python",
   "pygments_lexer": "ipython3",
   "version": "3.12.4"
  }
 },
 "nbformat": 4,
 "nbformat_minor": 5
}
